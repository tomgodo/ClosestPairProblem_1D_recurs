{
 "cells": [
  {
   "cell_type": "code",
   "execution_count": 11,
   "metadata": {},
   "outputs": [],
   "source": [
    "###########################################\n",
    "####### ClosestPairProblem_1D_recurs ######\n",
    "###########################################\n",
    "\n",
    "# this program return the distance\n",
    "# between the closest pair of points\n",
    "# in a list of points in 1 dimensional environment\n",
    "# using a recursive procedure\n",
    "\n",
    "# recive sorted lists only!!\n",
    "############################\n",
    "\n",
    "def split_process (point_list):\n",
    "    # define an \"infinite\" distance\n",
    "    dis = 1000000000000\n",
    "    # case 1 - the list of points has just one point\n",
    "    if (len(point_list) == 1):\n",
    "        min_dis = dis\n",
    "        return min_dis\n",
    "    #case 2 - the list of points has just 2 points    \n",
    "    elif (len(point_list) == 2):\n",
    "        min_dis = point_list[1] - point_list[0]\n",
    "        return min_dis\n",
    "    # all other cases\n",
    "    else:\n",
    "        # create 2 sublists\n",
    "        point_list1 = []\n",
    "        point_list2 = []\n",
    "        # calculate the middle of the current points list\n",
    "        mid = int(len(point_list)/2)\n",
    "        # split the current points list in 2 equal sublists\n",
    "        point_list1 = point_list [0:mid]\n",
    "        point_list2 = point_list [mid: len(point_list)]\n",
    "                \n",
    "        # recursive procedure:\n",
    "        \n",
    "        # recall the function sending the 1st sublist as argument \n",
    "        # and save the result\n",
    "        min_dist1 = split_process (point_list1)\n",
    "        # recall the function sending the 2nd sublist as argument \n",
    "        # and save the result\n",
    "        min_dist2 = split_process (point_list2)\n",
    "        # calculate the distance between the pair of points\n",
    "        # the last in the 1st sublist and the 1st in the 2nd list\n",
    "        min_dist3 = point_list2[0] - point_list1[len(point_list1)-1]\n",
    "        # find the minimal distance between the 3 results\n",
    "        min_dist = min (min_dist1, min_dist2, min_dist3)\n",
    "        # return the minimal distance\n",
    "        return min_dist"
   ]
  },
  {
   "cell_type": "code",
   "execution_count": 13,
   "metadata": {},
   "outputs": [
    {
     "name": "stdout",
     "output_type": "stream",
     "text": [
      "1\n"
     ]
    }
   ],
   "source": [
    "point_list = [1,10,21,29,33,39,61,45,52,60,400,100,201]\n",
    "point_list.sort()\n",
    "min_dist = split_process(point_list)\n",
    "print (min_dist)"
   ]
  },
  {
   "cell_type": "code",
   "execution_count": null,
   "metadata": {},
   "outputs": [],
   "source": []
  }
 ],
 "metadata": {
  "kernelspec": {
   "display_name": "Python 3",
   "language": "python",
   "name": "python3"
  },
  "language_info": {
   "codemirror_mode": {
    "name": "ipython",
    "version": 3
   },
   "file_extension": ".py",
   "mimetype": "text/x-python",
   "name": "python",
   "nbconvert_exporter": "python",
   "pygments_lexer": "ipython3",
   "version": "3.7.6"
  }
 },
 "nbformat": 4,
 "nbformat_minor": 4
}
